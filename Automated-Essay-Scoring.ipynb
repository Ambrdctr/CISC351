{
 "cells": [
  {
   "cell_type": "markdown",
   "metadata": {},
   "source": [
    "# Project: Automated Essay Scoring\n",
    "### Ambroise Decouttere and Harry Solomons"
   ]
  },
  {
   "cell_type": "code",
   "execution_count": 1,
   "metadata": {},
   "outputs": [],
   "source": [
    "from sklearn.feature_extraction.text import TfidfVectorizer\n",
    "import pandas as pd\n",
    "import numpy as np\n",
    "from sklearn.model_selection import train_test_split\n",
    "from sklearn.naive_bayes import MultinomialNB\n",
    "from sklearn.model_selection import cross_val_score\n",
    "from sklearn import metrics"
   ]
  },
  {
   "cell_type": "markdown",
   "metadata": {},
   "source": [
    "## Preparing data: loading csv, filling data, train-test splits and tf-idf vectorization"
   ]
  },
  {
   "cell_type": "code",
   "execution_count": 2,
   "metadata": {},
   "outputs": [],
   "source": [
    "df = pd.read_csv(\"./for_analysis.csv\")\n",
    "df = df.fillna(method='ffill')\n",
    "essays = df.essay\n",
    "scores = df.rater1_domain1\n",
    "X_train, X_test, y_train, y_test = train_test_split(essays, scores, test_size=0.2, random_state=0)\n",
    "\n",
    "vectorizer = TfidfVectorizer(sublinear_tf=True, max_df=0.5, min_df=7,\n",
    "                                 stop_words='english')\n",
    "# Tokenization included in vectorization\n",
    "\n",
    "features_train = vectorizer.fit_transform(X_train)\n",
    "features_test = vectorizer.transform(X_test)\n",
    "\n"
   ]
  },
  {
   "cell_type": "markdown",
   "metadata": {},
   "source": [
    "## Naive Bayes Implementation"
   ]
  },
  {
   "cell_type": "code",
   "execution_count": 4,
   "metadata": {},
   "outputs": [
    {
     "name": "stdout",
     "output_type": "stream",
     "text": [
      "\n",
      "Training time: 0.009s\n",
      "\n",
      "Prediction time: 0.009s\n",
      "Train set score: 0.511698642957417\n",
      "\n",
      "Prediction time (test): 0.002s\n",
      "Test set score: 0.46024321796071094\n",
      "QWKE score: 0.30716829260964196\n"
     ]
    }
   ],
   "source": [
    "# Some code here taken from https://towardsdatascience.com/training-a-naive-bayes-model-to-identify-the-author-of-an-email-or-document-17dc85fa630a\n",
    "\n",
    "from time import time\n",
    "\n",
    "t0 = time()\n",
    "clf = MultinomialNB()\n",
    "clf.fit(features_train, y_train)\n",
    "print(f\"\\nTraining time: {round(time()-t0, 3)}s\")\n",
    "\n",
    "t1 = time()\n",
    "training_score = clf.score(features_train, y_train)\n",
    "print(f\"\\nPrediction time: {round(time()-t1, 3)}s\")\n",
    "print(\"Train set score:\", training_score)\n",
    "\n",
    "t2 = time()\n",
    "test_score = clf.score(features_test, y_test)\n",
    "print(f\"\\nPrediction time (test): {round(time()-t2, 3)}s\")\n",
    "\n",
    "qwke = metrics.cohen_kappa_score(clf.predict(features_test), y_test)\n",
    "\n",
    "print(\"Test set score:\", test_score)\n",
    "print(\"QWKE score:\", qwke)\n"
   ]
  },
  {
   "cell_type": "markdown",
   "metadata": {},
   "source": [
    "## SVR Implementation"
   ]
  },
  {
   "cell_type": "code",
   "execution_count": 9,
   "metadata": {},
   "outputs": [
    {
     "name": "stdout",
     "output_type": "stream",
     "text": [
      "\n",
      "Training time: 31.698s\n",
      "\n",
      "Prediction time: 28.227s\n",
      "Train set score: 0.9581370162870131\n",
      "\n",
      "Prediction time (test): 7.091s\n",
      "Test set score: 0.7799543053683166\n",
      "QWKE score: 0.4516881623356501\n"
     ]
    }
   ],
   "source": [
    "from sklearn import svm\n",
    "\n",
    "t0 = time()\n",
    "svrmodel = svm.SVR(C=1.0, epsilon = 0.2)\n",
    "svrmodel.fit(features_train, y_train)\n",
    "print(f\"\\nTraining time: {round(time()-t0, 3)}s\")\n",
    "\n",
    "t1 = time()\n",
    "training_score = svrmodel.score(features_train, y_train)\n",
    "print(f\"\\nPrediction time: {round(time()-t1, 3)}s\")\n",
    "print(\"Train set score:\", training_score)\n",
    "\n",
    "t2 = time()\n",
    "test_score = svrmodel.score(features_test, y_test)\n",
    "print(f\"\\nPrediction time (test): {round(time()-t2, 3)}s\")\n",
    "\n",
    "qwke = metrics.cohen_kappa_score(np.around(svrmodel.predict(features_test), decimals=0), y_test)\n",
    "\n",
    "print(\"Test set score:\", test_score)\n",
    "print(\"QWKE score:\", qwke)"
   ]
  },
  {
   "cell_type": "markdown",
   "metadata": {},
   "source": [
    "### SVM Parameter Tuning Using GridSearchCV"
   ]
  },
  {
   "cell_type": "code",
   "execution_count": 14,
   "metadata": {},
   "outputs": [],
   "source": [
    "# Adapted from https://medium.com/@aneesha/svm-parameter-tuning-in-scikit-learn-using-gridsearchcv-2413c02125a0\n",
    "\n",
    "from sklearn.model_selection import GridSearchCV\n",
    "def svc_param_selection(X, y, nfolds):\n",
    "    Cs = [0.001, 0.01, 0.1, 1, 10]\n",
    "    epsilons = [0.001, 0.01, 0.1, 1]\n",
    "    param_grid = {'C': Cs, 'epsilon' : epsilons}\n",
    "    grid_search = GridSearchCV(svm.SVR(), param_grid, cv=nfolds)\n",
    "    grid_search.fit(X, y)\n",
    "    grid_search.best_params_\n",
    "    return grid_search.best_params_\n"
   ]
  },
  {
   "cell_type": "code",
   "execution_count": 15,
   "metadata": {},
   "outputs": [
    {
     "data": {
      "text/plain": [
       "{'C': 10, 'epsilon': 0.001}"
      ]
     },
     "execution_count": 15,
     "metadata": {},
     "output_type": "execute_result"
    }
   ],
   "source": [
    "svc_param_selection(features_train, y_train, 5)"
   ]
  },
  {
   "cell_type": "markdown",
   "metadata": {},
   "source": [
    "### Rerunning SVM with updated parameters"
   ]
  },
  {
   "cell_type": "code",
   "execution_count": 16,
   "metadata": {},
   "outputs": [
    {
     "name": "stdout",
     "output_type": "stream",
     "text": [
      "\n",
      "Training time: 132.088s\n",
      "\n",
      "Prediction time: 38.514s\n",
      "Train set score: 0.9999650928273224\n",
      "\n",
      "Prediction time (test): 9.518s\n",
      "Test set score: 0.7850412027725532\n",
      "QWKE score: 0.46787489875811816\n"
     ]
    }
   ],
   "source": [
    "t0 = time()\n",
    "svrmodel = svm.SVR(C=10, epsilon = 0.001)\n",
    "svrmodel.fit(features_train, y_train)\n",
    "print(f\"\\nTraining time: {round(time()-t0, 3)}s\")\n",
    "\n",
    "t1 = time()\n",
    "training_score = svrmodel.score(features_train, y_train)\n",
    "print(f\"\\nPrediction time: {round(time()-t1, 3)}s\")\n",
    "print(\"Train set score:\", training_score)\n",
    "\n",
    "t2 = time()\n",
    "test_score = svrmodel.score(features_test, y_test)\n",
    "print(f\"\\nPrediction time (test): {round(time()-t2, 3)}s\")\n",
    "\n",
    "qwke = metrics.cohen_kappa_score(np.around(svrmodel.predict(features_test), decimals=0), y_test)\n",
    "\n",
    "print(\"Test set score:\", test_score)\n",
    "print(\"QWKE score:\", qwke)"
   ]
  },
  {
   "cell_type": "code",
   "execution_count": null,
   "metadata": {},
   "outputs": [],
   "source": []
  }
 ],
 "metadata": {
  "kernelspec": {
   "display_name": "Python 3",
   "language": "python",
   "name": "python3"
  },
  "language_info": {
   "codemirror_mode": {
    "name": "ipython",
    "version": 3
   },
   "file_extension": ".py",
   "mimetype": "text/x-python",
   "name": "python",
   "nbconvert_exporter": "python",
   "pygments_lexer": "ipython3",
   "version": "3.7.4"
  }
 },
 "nbformat": 4,
 "nbformat_minor": 2
}
